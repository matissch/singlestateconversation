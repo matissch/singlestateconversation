{
 "cells": [
  {
   "attachments": {},
   "cell_type": "markdown",
   "metadata": {},
   "source": [
    "# A Chatbot using GPT and a Database\n",
    "This allows multiple chatbot types (e.g. a health coach and a learning assistant) to be created. Multiple chatbot instances can be created per chatbot type (e.g. a health coach for user X and user Y, and a learning assistant for user P and user Q). Both, types and instances are stored with and referenced by an ID (e.g. a UUID) in the database.\n",
    "\n",
    "This notebook is a simplest possible tutorial guiding you to create one type with one instance. Have a look at the **chatbot_setup_advanced.jpynp** for more advanced features.\n",
    "\n",
    "### 1. Preparation\n",
    "\n",
    "##### 1.1. Set the OpenAI API Key and Model\n",
    "Rename the file **chatbot/openai_template.py** to **chatbot/openai.py** and set the following keys.\n",
    "- OPENAI_KEY = \"your OpenAI API key in quotes\"\n",
    "- OPENAI_MODEL = \"model name in quotes, e.g. gpt-3.5-turbo-16k\"\n",
    "\n",
    "##### 1.2. Install openai package\n",
    "<sup><sub>Note: If you are using GitHub Codespaces, the first time you execute a code cell, you might get asked questions from the development environment (IDE). You can say yes to recommended installations, and to installing/enabling reecommended extensions. When asked to **Select Another Kernel**, choose **Python Environments** and select the recommende environment, e.g., **Python 3.10.13**</sub></sup>"
   ]
  },
  {
   "cell_type": "code",
   "execution_count": 1,
   "metadata": {},
   "outputs": [
    {
     "name": "stdout",
     "output_type": "stream",
     "text": [
      "Collecting openai\n",
      "  Downloading openai-1.23.2-py3-none-any.whl.metadata (21 kB)\n",
      "Requirement already satisfied: anyio<5,>=3.5.0 in /home/codespace/.local/lib/python3.10/site-packages (from openai) (4.3.0)\n",
      "Collecting distro<2,>=1.7.0 (from openai)\n",
      "  Downloading distro-1.9.0-py3-none-any.whl.metadata (6.8 kB)\n",
      "Requirement already satisfied: httpx<1,>=0.23.0 in /home/codespace/.local/lib/python3.10/site-packages (from openai) (0.27.0)\n",
      "Collecting pydantic<3,>=1.9.0 (from openai)\n",
      "  Downloading pydantic-2.7.0-py3-none-any.whl.metadata (103 kB)\n",
      "\u001b[2K     \u001b[90m━━━━━━━━━━━━━━━━━━━━━━━━━━━━━━━━━━━━━━━\u001b[0m \u001b[32m103.4/103.4 kB\u001b[0m \u001b[31m2.9 MB/s\u001b[0m eta \u001b[36m0:00:00\u001b[0m\n",
      "\u001b[?25hRequirement already satisfied: sniffio in /home/codespace/.local/lib/python3.10/site-packages (from openai) (1.3.1)\n",
      "Collecting tqdm>4 (from openai)\n",
      "  Downloading tqdm-4.66.2-py3-none-any.whl.metadata (57 kB)\n",
      "\u001b[2K     \u001b[90m━━━━━━━━━━━━━━━━━━━━━━━━━━━━━━━━━━━━━━━━\u001b[0m \u001b[32m57.6/57.6 kB\u001b[0m \u001b[31m1.4 MB/s\u001b[0m eta \u001b[36m0:00:00\u001b[0m\n",
      "\u001b[?25hRequirement already satisfied: typing-extensions<5,>=4.7 in /home/codespace/.local/lib/python3.10/site-packages (from openai) (4.10.0)\n",
      "Requirement already satisfied: idna>=2.8 in /home/codespace/.local/lib/python3.10/site-packages (from anyio<5,>=3.5.0->openai) (3.6)\n",
      "Requirement already satisfied: exceptiongroup>=1.0.2 in /home/codespace/.local/lib/python3.10/site-packages (from anyio<5,>=3.5.0->openai) (1.2.0)\n",
      "Requirement already satisfied: certifi in /home/codespace/.local/lib/python3.10/site-packages (from httpx<1,>=0.23.0->openai) (2024.2.2)\n",
      "Requirement already satisfied: httpcore==1.* in /home/codespace/.local/lib/python3.10/site-packages (from httpx<1,>=0.23.0->openai) (1.0.5)\n",
      "Requirement already satisfied: h11<0.15,>=0.13 in /home/codespace/.local/lib/python3.10/site-packages (from httpcore==1.*->httpx<1,>=0.23.0->openai) (0.14.0)\n",
      "Collecting annotated-types>=0.4.0 (from pydantic<3,>=1.9.0->openai)\n",
      "  Downloading annotated_types-0.6.0-py3-none-any.whl.metadata (12 kB)\n",
      "Collecting pydantic-core==2.18.1 (from pydantic<3,>=1.9.0->openai)\n",
      "  Downloading pydantic_core-2.18.1-cp310-cp310-manylinux_2_17_x86_64.manylinux2014_x86_64.whl.metadata (6.5 kB)\n",
      "Downloading openai-1.23.2-py3-none-any.whl (311 kB)\n",
      "\u001b[2K   \u001b[90m━━━━━━━━━━━━━━━━━━━━━━━━━━━━━━━━━━━━━━━━\u001b[0m \u001b[32m311.2/311.2 kB\u001b[0m \u001b[31m8.7 MB/s\u001b[0m eta \u001b[36m0:00:00\u001b[0m:00:01\u001b[0m\n",
      "\u001b[?25hDownloading distro-1.9.0-py3-none-any.whl (20 kB)\n",
      "Downloading pydantic-2.7.0-py3-none-any.whl (407 kB)\n",
      "\u001b[2K   \u001b[90m━━━━━━━━━━━━━━━━━━━━━━━━━━━━━━━━━━━━━━━━\u001b[0m \u001b[32m407.9/407.9 kB\u001b[0m \u001b[31m10.3 MB/s\u001b[0m eta \u001b[36m0:00:00\u001b[0m00:01\u001b[0m\n",
      "\u001b[?25hDownloading pydantic_core-2.18.1-cp310-cp310-manylinux_2_17_x86_64.manylinux2014_x86_64.whl (2.1 MB)\n",
      "\u001b[2K   \u001b[90m━━━━━━━━━━━━━━━━━━━━━━━━━━━━━━━━━━━━━━━━\u001b[0m \u001b[32m2.1/2.1 MB\u001b[0m \u001b[31m27.6 MB/s\u001b[0m eta \u001b[36m0:00:00\u001b[0m00:01\u001b[0m\n",
      "\u001b[?25hDownloading tqdm-4.66.2-py3-none-any.whl (78 kB)\n",
      "\u001b[2K   \u001b[90m━━━━━━━━━━━━━━━━━━━━━━━━━━━━━━━━━━━━━━━━\u001b[0m \u001b[32m78.3/78.3 kB\u001b[0m \u001b[31m2.3 MB/s\u001b[0m eta \u001b[36m0:00:00\u001b[0m\n",
      "\u001b[?25hDownloading annotated_types-0.6.0-py3-none-any.whl (12 kB)\n",
      "Installing collected packages: tqdm, pydantic-core, distro, annotated-types, pydantic, openai\n",
      "Successfully installed annotated-types-0.6.0 distro-1.9.0 openai-1.23.2 pydantic-2.7.0 pydantic-core-2.18.1 tqdm-4.66.2\n",
      "Note: you may need to restart the kernel to use updated packages.\n"
     ]
    }
   ],
   "source": [
    "%pip install openai"
   ]
  },
  {
   "cell_type": "markdown",
   "metadata": {},
   "source": [
    "##### 1.3. Import Chatbot library"
   ]
  },
  {
   "cell_type": "code",
   "execution_count": 3,
   "metadata": {},
   "outputs": [],
   "source": [
    "from chatbot.chatbot import Chatbot"
   ]
  },
  {
   "attachments": {},
   "cell_type": "markdown",
   "metadata": {},
   "source": [
    "### 2. Create a chatbot of type **health coach** for user **Daniel Müller**"
   ]
  },
  {
   "cell_type": "markdown",
   "metadata": {},
   "source": [
    "##### 2.1. Prompt Engineering\n",
    "To create a chatbot, we need to provide prompts. There are three prompts that can be used to customise the behaviour of the chatbot: a ***role***, ***context***, and ***starter*** prompt.\n",
    "\n",
    "**Role Prompt (type_role)**\n",
    "\n",
    "This prompt will be put at the beginning of the utterances sent to openai for completion. If you create multiple chatbots of the same type, this prompt will be the same for each one of them.\n",
    "\n",
    "You can use this prompt to specify the general (user-independent) behaviour of the chatbot, for example specifying the kind of person to enact, the topical context it acts in, and the goal of conversations it conducts with its users."
   ]
  },
  {
   "cell_type": "code",
   "execution_count": 4,
   "metadata": {},
   "outputs": [],
   "source": [
    "my_type_role = \"\"\"\n",
    "I want to act as an expert in portfolio management, specializing in diversified investments. \n",
    "My first suggesting request is to review and optimize an investment portfolio. \n",
    "\"\"\""
   ]
  },
  {
   "cell_type": "markdown",
   "metadata": {},
   "source": [
    "**Context Prompt (instance_context)**\n",
    "\n",
    "This prompt will be put right after the role prompt. If you create multiple chatbots of the same type, this prompt will be used only for one of them. <br />\n",
    "\n",
    "You can use this prompt to specify user-specific behaviour, for example information about the particular user that will use this chatbot instance."
   ]
  },
  {
   "cell_type": "code",
   "execution_count": 5,
   "metadata": {},
   "outputs": [],
   "source": [
    "my_instance_context = \"\"\"\n",
    "Try to use current articles about the current state of the market to further optimize your answers. \n",
    "You should always include a question in your response to better understand the user's context and needs.\n",
    "\"\"\""
   ]
  },
  {
   "cell_type": "markdown",
   "metadata": {},
   "source": [
    "**Starter Prompt (instance_starter)**\n",
    "\n",
    "This prompt will be appended after the role and context prompts and is meant to instruct GPT to create an initial message that opens the conversation with the user. <br />\n",
    "\n",
    "You can use this prompt to instruct GPT to welcome the user, ask initial questions, and how to proceed from there."
   ]
  },
  {
   "cell_type": "code",
   "execution_count": 6,
   "metadata": {},
   "outputs": [],
   "source": [
    "\n",
    "my_instance_starter = \"\"\"\n",
    "    After reviewing the users's portfolio, compose an answer that helps the user understand the current state of the market and how he can imporve his investments.\n",
    "\"\"\""
   ]
  },
  {
   "cell_type": "markdown",
   "metadata": {},
   "source": [
    "##### 2.2. Create Chatbot\n",
    "The following code creates a new Chatbot where the chatbot type is identified by the type_id provided and the chatbot instance by the user_id. These two IDs will be used further below to construct the URL pointing to this chatbot once it is deployed.\n",
    "\n",
    "The type name is only used in the front-end and does not affect the conversational behaviour.\n",
    "\n",
    "Once this code is executed, the chatbot is stored in the database."
   ]
  },
  {
   "cell_type": "code",
   "execution_count": 7,
   "metadata": {},
   "outputs": [],
   "source": [
    "bot = Chatbot(\n",
    "    database_file=\"database/chatbot.db\", \n",
    "    type_id=\"c48a13d7\",\n",
    "    user_id=\"fe6d944d\",\n",
    "    type_name=\"Health Coach\",\n",
    "    type_role=my_type_role,\n",
    "    instance_context=my_instance_context,\n",
    "    instance_starter=my_instance_starter\n",
    ")"
   ]
  },
  {
   "cell_type": "markdown",
   "metadata": {},
   "source": [
    "##### 2.3. Initiate Conversation Starter (Optional)\n",
    "\n",
    "If the chatbot should open the conversation with an initial message, the following code is executed. This code will execute a request to GPT, with the role, context and startet prompts specified above. The response from GPT (the initial message) will be stored in the database and therefore the user will see the opening message as soon as they access the chatbot."
   ]
  },
  {
   "cell_type": "code",
   "execution_count": 8,
   "metadata": {},
   "outputs": [
    {
     "name": "stdout",
     "output_type": "stream",
     "text": [
      "[\"Thank you for reaching out for a review and optimization of your investment portfolio. As an expert in portfolio management, specializing in diversified investments, I'd be happy to assist you.\\n\\nTo start, it would be helpful to have some additional information about your current portfolio, such as the asset classes, allocation percentages, investment goals, and risk tolerance. This will help me tailor my recommendations to align with your specific needs.\\n\\nThat being said, I can provide you with some general insights on optimizing a diversified investment portfolio based on the current market conditions.\\n\\n1. Review your asset allocation: Take a closer look at your allocation across different asset classes such as stocks, bonds, cash, and alternative investments. Assess whether it aligns with your risk tolerance and financial goals. Keep in mind that diversification across various asset classes can help mitigate risk and potentially enhance returns.\\n\\n2. Focus on risk management: Given the current market volatility and global uncertainties, it's crucial to emphasize risk management in your portfolio. Consider incorporating assets that historically have low correlations to each other, as this can help reduce the overall risk of your portfolio.\\n\\n3. Stay informed about market trends: Regularly review the macroeconomic environment and be aware of market trends. This will enable you to make informed decisions and potentially take advantage of market opportunities. Keep up with the latest news, economic indicators, and expert opinions to improve your investment outcomes.\\n\\n4. Assess your individual holdings: Evaluate each individual investment within your portfolio. Review their historical performance, management team, fees, and the future outlook of the respective sectors or industries they operate in. Consider diversifying investments within each asset class to further enhance portfolio diversification.\\n\\n5. Rebalance regularly: As market conditions change, your portfolio's asset allocation may drift from its original allocation. Periodic rebalancing ensures that your portfolio stays in line with your desired risk-return profile. It involves selling portions of the overperforming assets and reinvesting in underperforming or undervalued assets.\\n\\nHowever, it is important to note that the suggestions provided here are general in nature and may not be suitable for everyone. It is always recommended to consult with a professional financial advisor who can provide personalized advice based on your specific circumstances.\\n\\nCould you please provide more details about your current portfolio, investment goals, and risk tolerance? This will enable me to provide more tailored optimization recommendations.\"]\n"
     ]
    }
   ],
   "source": [
    "print(bot.start())"
   ]
  },
  {
   "cell_type": "markdown",
   "metadata": {},
   "source": [
    "### 3. Deploy and Disseminate\n",
    "You can now deploy your chatbot. If you are using our guide for deploying to pythonanywhere.com, the URL to be handed out to the user is as follows.\n",
    "\n",
    "**Generic URL**\n",
    "\n",
    "https://[your pythonanywhere user name].pythonanywhere.com/[type id]/[user_id]/chat\n",
    "\n",
    "**For Example**\n",
    "\n",
    "https://monkey23.pythonanywhere.com/c48a13d7/fe6d944d/chat\n",
    "\n"
   ]
  }
 ],
 "metadata": {
  "kernelspec": {
   "display_name": "Python 3",
   "language": "python",
   "name": "python3"
  },
  "language_info": {
   "codemirror_mode": {
    "name": "ipython",
    "version": 3
   },
   "file_extension": ".py",
   "mimetype": "text/x-python",
   "name": "python",
   "nbconvert_exporter": "python",
   "pygments_lexer": "ipython3",
   "version": "3.10.13"
  },
  "orig_nbformat": 4
 },
 "nbformat": 4,
 "nbformat_minor": 2
}
