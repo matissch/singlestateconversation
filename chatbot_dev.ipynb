{
 "cells": [
  {
   "cell_type": "markdown",
   "metadata": {},
   "source": [
    "# Adjusting and Testing your chatbot"
   ]
  },
  {
   "attachments": {},
   "cell_type": "markdown",
   "metadata": {},
   "source": [
    "### 1. Setup\n",
    "\n",
    "See **chatbot_setup.jpynp**"
   ]
  },
  {
   "cell_type": "markdown",
   "metadata": {},
   "source": [
    "Import libraries:"
   ]
  },
  {
   "cell_type": "code",
   "execution_count": null,
   "metadata": {},
   "outputs": [],
   "source": [
    "from chatbot.chatbot import Chatbot\n",
    "from pprint import pprint"
   ]
  },
  {
   "attachments": {},
   "cell_type": "markdown",
   "metadata": {},
   "source": [
    "### 2. Prompt Engineering\n"
   ]
  },
  {
   "cell_type": "markdown",
   "metadata": {},
   "source": [
    "**Role Prompts (type_role)**\n",
    "\n",
    "These prompts specify the general (user-independent) behaviour of the chatbot, for example specifying the kind of person to enact, the topical context it acts in, and the goal of conversations it conducts with its users.\n"
   ]
  },
  {
   "cell_type": "code",
   "execution_count": null,
   "metadata": {},
   "outputs": [],
   "source": [
    "my_type_role_1 = \"\"\"\n",
    "    I want to act as an expert in portfolio management, specializing in diversified investments. \n",
    "    My first suggesting request is to review and optimize an investment portfolio. \n",
    "\"\"\"\n",
    "my_type_role_2 = \"\"\"\n",
    "    Als digitaler Therapie-Coach sollten Sie sich täglich bei Ihrem Patienten melden, um sein Wohlbefinden im Zusammenhang mit seiner chronischen Erkrankung zu beurteilen.\n",
    "    Verwenden Sie offene Fragen und einen einfühlsamen Dialog, um ein unterstützendes Umfeld zu schaffen.\n",
    "    Hören Sie reflexiv zu und ermutigen Sie den Patienten zu einer ausführlichen Bewertung seines Zustands, ohne das Thema zu lenken.\n",
    "    Stellen Sie nur eine Frage auf einmal.\n",
    "\"\"\""
   ]
  },
  {
   "cell_type": "markdown",
   "metadata": {},
   "source": [
    "**Context Prompts (instance_context)**\n",
    "\n",
    "These prompts specify user-specific behaviour, for example information about the particular user that will use this chatbot instance.\n"
   ]
  },
  {
   "cell_type": "code",
   "execution_count": null,
   "metadata": {},
   "outputs": [],
   "source": [
    "my_instance_context_1 = \"\"\"\n",
    "    Try to use current articles about the current state of the market to further optimize your answers. \n",
    "    You should always include a question in your response to better understand the user's context and needs.\n",
    "\"\"\"\n",
    "\n",
    "my_instance_context_2 = \"\"\"\n",
    "    Dein Gesprächspartner hat erfolgreich 20 kg abgenommen und ist damit nur noch leicht übergewichtig. Er hat Probleme, sein Gewicht konstant zu halten.\n",
    "\"\"\""
   ]
  },
  {
   "cell_type": "markdown",
   "metadata": {},
   "source": [
    "**Starter Prompts (instance_starter)**\n",
    "\n",
    "These prompts instruct GPT to welcome the user, ask initial questions, and how to proceed from there.\n"
   ]
  },
  {
   "cell_type": "code",
   "execution_count": null,
   "metadata": {},
   "outputs": [],
   "source": [
    "\n",
    "my_instance_starter_1 = \"\"\"\n",
    "    It's better to explain more than to little. After reviewing the users's portfolio, compose an answer that helps the user understand the current state of the market and how he can imporve his investments.\n",
    "\"\"\"\n",
    "\n",
    "my_instance_starter_2 = \"\"\"\n",
    "Frage nun nach dem Namen des Gesprächpartners und einem persönlichen Detail (z.B. Hobby, Beruf, Lebenserfahrung).\n",
    "Verwende den Namen im geschlechtsneutralem Gespräch in Du-Form.\n",
    "Sobald ein Grund für das Verhalten des Gesprächpartners bekannt ist, gib ihm eine Liste von Optionen, die ihm helfen können, sein Verhalten zu verbessern oder beizubehalten.\n",
    "\"\"\""
   ]
  },
  {
   "cell_type": "markdown",
   "metadata": {},
   "source": [
    "### 3. Create Chatbots\n",
    "**Initialise the Chatbots**"
   ]
  },
  {
   "cell_type": "code",
   "execution_count": null,
   "metadata": {},
   "outputs": [],
   "source": [
    "bot_1 = Chatbot(\n",
    "    database_file=\"database/chatbot.db\", \n",
    "    type_id=\"1\",\n",
    "    user_id=\"1\",\n",
    "    type_name=\"Portfolio Manager\",\n",
    "    type_role=my_type_role_1,\n",
    "    instance_context=my_instance_context_1,\n",
    "    instance_starter=my_instance_starter_1\n",
    ")\n",
    "bot_2 = Chatbot(\n",
    "    database_file=\"database/chatbot.db\", \n",
    "    type_id=\"2\",\n",
    "    user_id=\"2\",\n",
    "    type_name=\"Health Coach 2\",\n",
    "    type_role=my_type_role_2,\n",
    "    instance_context=my_instance_context_2,\n",
    "    instance_starter=my_instance_starter_2\n",
    ")"
   ]
  },
  {
   "cell_type": "markdown",
   "metadata": {},
   "source": [
    "**Initiate Conversation Starter**\n",
    "\n",
    "Create the initial message(s).\n"
   ]
  },
  {
   "cell_type": "code",
   "execution_count": null,
   "metadata": {},
   "outputs": [],
   "source": [
    "pprint(bot_1.start())"
   ]
  },
  {
   "cell_type": "code",
   "execution_count": null,
   "metadata": {},
   "outputs": [],
   "source": [
    "pprint(bot_2.start())"
   ]
  },
  {
   "cell_type": "markdown",
   "metadata": {},
   "source": [
    "### 4. Test your Bots"
   ]
  },
  {
   "cell_type": "markdown",
   "metadata": {},
   "source": [
    "**Respond to the bot's message**"
   ]
  },
  {
   "cell_type": "code",
   "execution_count": null,
   "metadata": {},
   "outputs": [],
   "source": [
    "pprint(bot_1.respond(\"Hallo!\"))"
   ]
  },
  {
   "cell_type": "code",
   "execution_count": null,
   "metadata": {},
   "outputs": [],
   "source": [
    "pprint(bot_2.respond(\"Hallo!\"))"
   ]
  },
  {
   "cell_type": "markdown",
   "metadata": {},
   "source": [
    "**Retrieve the complete conversation**"
   ]
  },
  {
   "cell_type": "code",
   "execution_count": null,
   "metadata": {},
   "outputs": [],
   "source": [
    "pprint(bot_1.conversation_retrieve())"
   ]
  },
  {
   "cell_type": "code",
   "execution_count": null,
   "metadata": {},
   "outputs": [],
   "source": [
    "pprint(bot_2.conversation_retrieve())"
   ]
  },
  {
   "cell_type": "markdown",
   "metadata": {},
   "source": [
    "### 5. Reset DB (Optional)\n",
    "You may reset the complete datatabase if needed by executing the following code. Uncomment first (remove the '#'' at the beginning of the line)."
   ]
  },
  {
   "cell_type": "code",
   "execution_count": null,
   "metadata": {},
   "outputs": [],
   "source": [
    "#bot_1.resetDb()"
   ]
  },
  {
   "cell_type": "markdown",
   "metadata": {},
   "source": [
    "### 6. Deployment\n",
    "\n",
    "See **chatbot_setup.jpynp**\n"
   ]
  }
 ],
 "metadata": {
  "kernelspec": {
   "display_name": "Python 3",
   "language": "python",
   "name": "python3"
  },
  "language_info": {
   "codemirror_mode": {
    "name": "ipython",
    "version": 3
   },
   "file_extension": ".py",
   "mimetype": "text/x-python",
   "name": "python",
   "nbconvert_exporter": "python",
   "pygments_lexer": "ipython3",
   "version": "3.10.5"
  },
  "orig_nbformat": 4
 },
 "nbformat": 4,
 "nbformat_minor": 2
}
